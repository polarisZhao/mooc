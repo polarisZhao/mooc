{
 "cells": [
  {
   "cell_type": "markdown",
   "metadata": {
    "collapsed": true
   },
   "source": [
    "# Image Classification\n",
    "In this project, you'll classify images from the [CIFAR-10 dataset](https://www.cs.toronto.edu/~kriz/cifar.html).  The dataset consists of airplanes, dogs, cats, and other objects. You'll preprocess the images, then train a convolutional neural network on all the samples. The images need to be normalized and the labels need to be one-hot encoded.  You'll get to apply what you learned and build a convolutional, max pooling, dropout, and fully connected layers.  At the end, you'll get to see your neural network's predictions on the sample images.\n",
    "## Get the Data\n",
    "Run the following cell to download the [CIFAR-10 dataset for python](https://www.cs.toronto.edu/~kriz/cifar-10-python.tar.gz)."
   ]
  },
  {
   "cell_type": "code",
   "execution_count": 1,
   "metadata": {
    "collapsed": false
   },
   "outputs": [
    {
     "name": "stdout",
     "output_type": "stream",
     "text": [
      "All files found!\n"
     ]
    }
   ],
   "source": [
    "\"\"\"\n",
    "DON'T MODIFY ANYTHING IN THIS CELL THAT IS BELOW THIS LINE\n",
    "\"\"\"\n",
    "from urllib.request import urlretrieve\n",
    "from os.path import isfile, isdir\n",
    "from tqdm import tqdm\n",
    "import problem_unittests as tests\n",
    "import tarfile\n",
    "\n",
    "cifar10_dataset_folder_path = 'cifar-10-batches-py'\n",
    "\n",
    "class DLProgress(tqdm):\n",
    "    last_block = 0\n",
    "\n",
    "    def hook(self, block_num=1, block_size=1, total_size=None):\n",
    "        self.total = total_size\n",
    "        self.update((block_num - self.last_block) * block_size)\n",
    "        self.last_block = block_num\n",
    "\n",
    "if not isfile('cifar-10-python.tar.gz'):\n",
    "    with DLProgress(unit='B', unit_scale=True, miniters=1, desc='CIFAR-10 Dataset') as pbar:\n",
    "        urlretrieve(\n",
    "            'https://www.cs.toronto.edu/~kriz/cifar-10-python.tar.gz',\n",
    "            'cifar-10-python.tar.gz',\n",
    "            pbar.hook)\n",
    "\n",
    "if not isdir(cifar10_dataset_folder_path):\n",
    "    with tarfile.open('cifar-10-python.tar.gz') as tar:\n",
    "        tar.extractall()\n",
    "        tar.close()\n",
    "\n",
    "\n",
    "tests.test_folder_path(cifar10_dataset_folder_path)"
   ]
  },
  {
   "cell_type": "markdown",
   "metadata": {},
   "source": [
    "## Explore the Data\n",
    "The dataset is broken into batches to prevent your machine from running out of memory.  The CIFAR-10 dataset consists of 5 batches, named `data_batch_1`, `data_batch_2`, etc.. Each batch contains the labels and images that are one of the following:\n",
    "* airplane\n",
    "* automobile\n",
    "* bird\n",
    "* cat\n",
    "* deer\n",
    "* dog\n",
    "* frog\n",
    "* horse\n",
    "* ship\n",
    "* truck\n",
    "\n",
    "Understanding a dataset is part of making predictions on the data.  Play around with the code cell below by changing the `batch_id` and `sample_id`. The `batch_id` is the id for a batch (1-5). The `sample_id` is the id for a image and label pair in the batch.\n",
    "\n",
    "Ask yourself \"What are all possible labels?\", \"What is the range of values for the image data?\", \"Are the labels in order or random?\".  Answers to questions like these will help you preprocess the data and end up with better predictions."
   ]
  },
  {
   "cell_type": "code",
   "execution_count": 2,
   "metadata": {
    "collapsed": false
   },
   "outputs": [
    {
     "name": "stdout",
     "output_type": "stream",
     "text": [
      "\n",
      "Stats of batch 1:\n",
      "Samples: 10000\n",
      "Label Counts: {0: 1005, 1: 974, 2: 1032, 3: 1016, 4: 999, 5: 937, 6: 1030, 7: 1001, 8: 1025, 9: 981}\n",
      "First 20 Labels: [6, 9, 9, 4, 1, 1, 2, 7, 8, 3, 4, 7, 7, 2, 9, 9, 9, 3, 2, 6]\n",
      "\n",
      "Example of Image 5:\n",
      "Image - Min Value: 0 Max Value: 252\n",
      "Image - Shape: (32, 32, 3)\n",
      "Label - Label Id: 1 Name: automobile\n"
     ]
    },
    {
     "data": {
      "image/png": "[encoded data removed]",
      "text/plain": [
       "<matplotlib.figure.Figure at 0x118271d30>"
      ]
     },
     "metadata": {
      "image/png": {
       "height": 250,
       "width": 253
      }
     },
     "output_type": "display_data"
    }
   ],
   "source": [
    "%matplotlib inline\n",
    "%config InlineBackend.figure_format = 'retina'\n",
    "\n",
    "import helper\n",
    "import numpy as np\n",
    "\n",
    "# Explore the dataset\n",
    "batch_id = 1\n",
    "sample_id = 5\n",
    "helper.display_stats(cifar10_dataset_folder_path, batch_id, sample_id)"
   ]
  },
  {
   "cell_type": "markdown",
   "metadata": {},
   "source": [
    "## Implement Preprocess Functions\n",
    "### Normalize\n",
    "In the cell below, implement the `normalize` function to take in image data, `x`, and return it as a normalized Numpy array. The values should be in the range of 0 to 1, inclusive.  The return object should be the same shape as `x`."
   ]
  },
  {
   "cell_type": "code",
   "execution_count": 3,
   "metadata": {
    "collapsed": false
   },
   "outputs": [
    {
     "name": "stdout",
     "output_type": "stream",
     "text": [
      "Tests Passed\n"
     ]
    }
   ],
   "source": [
    "def normalize(x):\n",
    "    \"\"\"\n",
    "    Normalize a list of sample image data in the range of 0 to 1\n",
    "    : x: List of image data.  The image shape is (32, 32, 3)\n",
    "    : return: Numpy array of normalize data\n",
    "    \"\"\"\n",
    "    return (x - np.min(x,axis = 0)) / (np.max(x,axis = 0) - np.min(x, axis = 0))\n",
    "\n",
    "\n",
    "\"\"\"\n",
    "DON'T MODIFY ANYTHING IN THIS CELL THAT IS BELOW THIS LINE\n",
    "\"\"\"\n",
    "tests.test_normalize(normalize)"
   ]
  },
  {
   "cell_type": "markdown",
   "metadata": {},
   "source": [
    "### One-hot encode\n",
    "Just like the previous code cell, you'll be implementing a function for preprocessing.  This time, you'll implement the `one_hot_encode` function. The input, `x`, are a list of labels.  Implement the function to return the list of labels as One-Hot encoded Numpy array.  The possible values for labels are 0 to 9. The one-hot encoding function should return the same encoding for each value between each call to `one_hot_encode`.  Make sure to save the map of encodings outside the function.\n",
    "\n",
    "Hint: Don't reinvent the wheel."
   ]
  },
  {
   "cell_type": "code",
   "execution_count": 23,
   "metadata": {
    "collapsed": false
   },
   "outputs": [
    {
     "name": "stdout",
     "output_type": "stream",
     "text": [
      "Tests Passed\n"
     ]
    }
   ],
   "source": [
    "def one_hot_encode(x):\n",
    "    \"\"\"\n",
    "    One hot encode a list of sample labels. Return a one-hot encoded vector for each label.\n",
    "    : x: List of sample Labels\n",
    "    : return: Numpy array of one-hot encoded labels\n",
    "    \"\"\"\n",
    "    num_labels = len(x)\n",
    "    num_classes = 10 # len(set(x))\n",
    "    labels_one_hot = np.zeros((num_labels, num_classes)) \n",
    "    # classes = dict((zip(sorted(list(set(x))), range(num_classes))))\n",
    "    for k,i in enumerate(x):\n",
    "        labels_one_hot[k][i] = 1 \n",
    "    return labels_one_hot\n",
    "\n",
    "\"\"\"\n",
    "DON'T MODIFY ANYTHING IN THIS CELL THAT IS BELOW THIS LINE\n",
    "\"\"\"\n",
    "tests.test_one_hot_encode(one_hot_encode)"
   ]
  },
  {
   "cell_type": "markdown",
   "metadata": {},
   "source": [
    "## Preprocess all the data and save it\n",
    "Running the code cell below will preprocess all the CIFAR-10 data and save it to file. The code below also uses 10% of the training data for validation."
   ]
  },
  {
   "cell_type": "code",
   "execution_count": 5,
   "metadata": {
    "collapsed": false
   },
   "outputs": [],
   "source": [
    "\"\"\"\n",
    "DON'T MODIFY ANYTHING IN THIS CELL\n",
    "\"\"\"\n",
    "# Preprocess Training, Validation, and Testing Data\n",
    "helper.preprocess_and_save_data(cifar10_dataset_folder_path, normalize, one_hot_encode)"
   ]
  },
  {
   "cell_type": "markdown",
   "metadata": {},
   "source": [
    "# Check Point\n",
    "This is your first checkpoint.  If you ever decide to come back to this notebook or have to restart the notebook, you can start from here.  The preprocessed data has been saved to disk."
   ]
  },
  {
   "cell_type": "code",
   "execution_count": 6,
   "metadata": {
    "collapsed": false
   },
   "outputs": [],
   "source": [
    "\"\"\"\n",
    "DON'T MODIFY ANYTHING IN THIS CELL\n",
    "\"\"\"\n",
    "import pickle\n",
    "import problem_unittests as tests\n",
    "import helper\n",
    "\n",
    "# Load the Preprocessed Validation data\n",
    "valid_features, valid_labels = pickle.load(open('preprocess_validation.p', mode='rb'))"
   ]
  },
  {
   "cell_type": "markdown",
   "metadata": {},
   "source": [
    "## Build the network\n",
    "For the neural network, you'll build each layer into a function.  Most of the code you've seen has been outside of functions. To test your code more thoroughly, we require that you put each layer in a function.  This allows us to give you better feedback and test for simple mistakes using our unittests before you submit your project.\n",
    "\n",
    "If you're finding it hard to dedicate enough time for this course a week, we've provided a small shortcut to this part of the project. In the next couple of problems, you'll have the option to use [TensorFlow Layers](https://www.tensorflow.org/api_docs/python/tf/layers) or [TensorFlow Layers (contrib)](https://www.tensorflow.org/api_guides/python/contrib.layers) to build each layer, except \"Convolutional & Max Pooling\" layer.  TF Layers is similar to Keras's and TFLearn's abstraction to layers, so it's easy to pickup.\n",
    "\n",
    "If you would like to get the most of this course, try to solve all the problems without TF Layers.  Let's begin!\n",
    "### Input\n",
    "The neural network needs to read the image data, one-hot encoded labels, and dropout keep probability. Implement the following functions\n",
    "* Implement `neural_net_image_input`\n",
    " * Return a [TF Placeholder](https://www.tensorflow.org/api_docs/python/tf/placeholder)\n",
    " * Set the shape using `image_shape` with batch size set to `None`.\n",
    " * Name the TensorFlow placeholder \"x\" using the TensorFlow `name` parameter in the [TF Placeholder](https://www.tensorflow.org/api_docs/python/tf/placeholder).\n",
    "* Implement `neural_net_label_input`\n",
    " * Return a [TF Placeholder](https://www.tensorflow.org/api_docs/python/tf/placeholder)\n",
    " * Set the shape using `n_classes` with batch size set to `None`.\n",
    " * Name the TensorFlow placeholder \"y\" using the TensorFlow `name` parameter in the [TF Placeholder](https://www.tensorflow.org/api_docs/python/tf/placeholder).\n",
    "* Implement `neural_net_keep_prob_input`\n",
    " * Return a [TF Placeholder](https://www.tensorflow.org/api_docs/python/tf/placeholder) for dropout keep probability.\n",
    " * Name the TensorFlow placeholder \"keep_prob\" using the TensorFlow `name` parameter in the [TF Placeholder](https://www.tensorflow.org/api_docs/python/tf/placeholder).\n",
    "\n",
    "These names will be used at the end of the project to load your saved model.\n",
    "\n",
    "Note: `None` for shapes in TensorFlow allow for a dynamic size."
   ]
  },
  {
   "cell_type": "code",
   "execution_count": 7,
   "metadata": {
    "collapsed": false
   },
   "outputs": [
    {
     "name": "stdout",
     "output_type": "stream",
     "text": [
      "Image Input Tests Passed.\n",
      "Label Input Tests Passed.\n",
      "Keep Prob Tests Passed.\n"
     ]
    }
   ],
   "source": [
    "import tensorflow as tf\n",
    "\n",
    "def neural_net_image_input(image_shape):\n",
    "    \"\"\"\n",
    "    Return a Tensor for a bach of image input\n",
    "    : image_shape: Shape of the images\n",
    "    : return: Tensor for image input.\n",
    "    \"\"\"\n",
    "    H,W,D = image_shape\n",
    "    return tf.placeholder(tf.float32, (None, H, W, D), name = 'x')\n",
    "\n",
    "\n",
    "def neural_net_label_input(n_classes):\n",
    "    \"\"\"\n",
    "    Return a Tensor for a batch of label input\n",
    "    : n_classes: Number of classes\n",
    "    : return: Tensor for label input.\n",
    "    \"\"\"\n",
    "    # TODO: Implement Function\n",
    "    return tf.placeholder(tf.float32, (None, n_classes), name = 'y')\n",
    "\n",
    "\n",
    "def neural_net_keep_prob_input():\n",
    "    \"\"\"\n",
    "    Return a Tensor for keep probability\n",
    "    : return: Tensor for keep probability.\n",
    "    \"\"\"\n",
    "    # TODO: Implement Function\n",
    "    return tf.placeholder(tf.float32, name = \"keep_prob\")\n",
    "\n",
    "\n",
    "\"\"\"\n",
    "DON'T MODIFY ANYTHING IN THIS CELL THAT IS BELOW THIS LINE\n",
    "\"\"\"\n",
    "tf.reset_default_graph()\n",
    "tests.test_nn_image_inputs(neural_net_image_input)\n",
    "tests.test_nn_label_inputs(neural_net_label_input)\n",
    "tests.test_nn_keep_prob_inputs(neural_net_keep_prob_input)"
   ]
  },
  {
   "cell_type": "markdown",
   "metadata": {},
   "source": [
    "### Convolution and Max Pooling Layer\n",
    "Convolution layers have a lot of success with images. For this code cell, you should implement the function `conv2d_maxpool` to apply convolution then max pooling:\n",
    "* Create the weight and bias using `conv_ksize`, `conv_num_outputs` and the shape of `x_tensor`.\n",
    "* Apply a convolution to `x_tensor` using weight and `conv_strides`.\n",
    " * We recommend you use same padding, but you're welcome to use any padding.\n",
    "* Add bias\n",
    "* Add a nonlinear activation to the convolution.\n",
    "* Apply Max Pooling using `pool_ksize` and `pool_strides`.\n",
    " * We recommend you use same padding, but you're welcome to use any padding.\n",
    "\n",
    "Note: You **can't** use [TensorFlow Layers](https://www.tensorflow.org/api_docs/python/tf/layers) or [TensorFlow Layers (contrib)](https://www.tensorflow.org/api_guides/python/contrib.layers) for this layer.  You're free to use any TensorFlow package for all the other layers."
   ]
  },
  {
   "cell_type": "code",
   "execution_count": 8,
   "metadata": {
    "collapsed": false
   },
   "outputs": [
    {
     "name": "stdout",
     "output_type": "stream",
     "text": [
      "Tests Passed\n"
     ]
    }
   ],
   "source": [
    "def conv2d_maxpool(x_tensor, conv_num_outputs, conv_ksize, conv_strides, pool_ksize, pool_strides):\n",
    "    \"\"\"\n",
    "    Apply convolution then max pooling to x_tensor\n",
    "    :param x_tensor: TensorFlow Tensor\n",
    "    :param conv_num_outputs: Number of outputs for the convolutional layer\n",
    "    :param conv_strides: Stride 2-D Tuple for convolution\n",
    "    :param pool_ksize: kernal size 2-D Tuple for pool\n",
    "    :param pool_strides: Stride 2-D Tuple for pool\n",
    "    : return: A tensor that represents convolution and max pooling of x_tensor\n",
    "    \"\"\"\n",
    "    b, h, w, d = x_tensor.shape\n",
    "    \n",
    "    conv_h,conv_w = conv_ksize\n",
    "    conv_s_h,conv_s_w = conv_strides\n",
    "    \n",
    "    pool_h, pool_w = pool_ksize\n",
    "    pool_s_h,pool_s_w = pool_strides\n",
    "    \n",
    "    weights = tf.Variable(tf.truncated_normal([conv_h, conv_w, int(d), conv_num_outputs], stddev = 0.1))  \n",
    "    biases = tf.Variable(tf.zeros(conv_num_outputs))\n",
    "    conv = tf.nn.relu(tf.nn.bias_add(tf.nn.conv2d(x_tensor, weights, [1,conv_s_h,conv_s_w, 1], padding='SAME'), biases))     \n",
    "    conv_pool_layer = tf.nn.max_pool(conv, [1, pool_h, pool_w, 1],[1, pool_s_h, pool_s_w, 1], padding='SAME')      \n",
    "    return conv_pool_layer\n",
    "\n",
    "\n",
    "\"\"\"\n",
    "DON'T MODIFY ANYTHING IN THIS CELL THAT IS BELOW THIS LINE\n",
    "\"\"\"\n",
    "tests.test_con_pool(conv2d_maxpool)"
   ]
  },
  {
   "cell_type": "markdown",
   "metadata": {},
   "source": [
    "### Flatten Layer\n",
    "Implement the `flatten` function to change the dimension of `x_tensor` from a 4-D tensor to a 2-D tensor.  The output should be the shape (*Batch Size*, *Flattened Image Size*). You can use [TensorFlow Layers](https://www.tensorflow.org/api_docs/python/tf/layers) or [TensorFlow Layers (contrib)](https://www.tensorflow.org/api_guides/python/contrib.layers) for this layer."
   ]
  },
  {
   "cell_type": "code",
   "execution_count": 9,
   "metadata": {
    "collapsed": false
   },
   "outputs": [
    {
     "name": "stdout",
     "output_type": "stream",
     "text": [
      "Tests Passed\n"
     ]
    }
   ],
   "source": [
    "def flatten(x_tensor):\n",
    "    \"\"\"\n",
    "    Flatten x_tensor to (Batch Size, Flattened Image Size)\n",
    "    : x_tensor: A tensor of size (Batch Size, ...), where ... are the image dimensions.\n",
    "    : return: A tensor of size (Batch Size, Flattened Image Size).\n",
    "    \"\"\"\n",
    "    # TODO: Implement Function\n",
    "    b, h, w, d = x_tensor.shape\n",
    "    flatten_layer = tf.reshape(x_tensor, [-1, int(h)*int(w)*int(d)])\n",
    "    return flatten_layer\n",
    "\n",
    "\n",
    "\"\"\"\n",
    "DON'T MODIFY ANYTHING IN THIS CELL THAT IS BELOW THIS LINE\n",
    "\"\"\"\n",
    "tests.test_flatten(flatten)"
   ]
  },
  {
   "cell_type": "markdown",
   "metadata": {},
   "source": [
    "### Fully-Connected Layer\n",
    "Implement the `fully_conn` function to apply a fully connected layer to `x_tensor` with the shape (*Batch Size*, *num_outputs*). You can use [TensorFlow Layers](https://www.tensorflow.org/api_docs/python/tf/layers) or [TensorFlow Layers (contrib)](https://www.tensorflow.org/api_guides/python/contrib.layers) for this layer."
   ]
  },
  {
   "cell_type": "code",
   "execution_count": 10,
   "metadata": {
    "collapsed": false
   },
   "outputs": [
    {
     "name": "stdout",
     "output_type": "stream",
     "text": [
      "Tests Passed\n"
     ]
    }
   ],
   "source": [
    "def fully_conn(x_tensor, num_outputs):\n",
    "    \"\"\"\n",
    "    Apply a fully connected layer to x_tensor using weight and bias\n",
    "    : x_tensor: A 2-D tensor where the first dimension is batch size.\n",
    "    : num_outputs: The number of output that the new tensor should be.\n",
    "    : return: A 2-D tensor where the second dimension is num_outputs.\n",
    "    \"\"\"\n",
    "    dim = x_tensor.shape[1]\n",
    "    \n",
    "    weights = tf.Variable(tf.truncated_normal(shape=(int(dim), num_outputs), stddev = 0.1))\n",
    "    biases = tf.Variable(tf.zeros(num_outputs))\n",
    "    fc_layer = tf.nn.relu(tf.add(tf.matmul(x_tensor, weights) , biases))\n",
    "    return fc_layer\n",
    "\n",
    "\n",
    "\"\"\"\n",
    "DON'T MODIFY ANYTHING IN THIS CELL THAT IS BELOW THIS LINE\n",
    "\"\"\"\n",
    "tests.test_fully_conn(fully_conn)"
   ]
  },
  {
   "cell_type": "markdown",
   "metadata": {},
   "source": [
    "### Output Layer\n",
    "Implement the `output` function to apply a fully connected layer to `x_tensor` with the shape (*Batch Size*, *num_outputs*). You can use [TensorFlow Layers](https://www.tensorflow.org/api_docs/python/tf/layers) or [TensorFlow Layers (contrib)](https://www.tensorflow.org/api_guides/python/contrib.layers) for this layer.\n",
    "\n",
    "Note: Activation, softmax, or cross entropy shouldn't be applied to this."
   ]
  },
  {
   "cell_type": "code",
   "execution_count": 11,
   "metadata": {
    "collapsed": false
   },
   "outputs": [
    {
     "name": "stdout",
     "output_type": "stream",
     "text": [
      "Tests Passed\n"
     ]
    }
   ],
   "source": [
    "def output(x_tensor, num_outputs):\n",
    "    \"\"\"\n",
    "    Apply a output layer to x_tensor using weight and bias\n",
    "    : x_tensor: A 2-D tensor where the first dimension is batch size.\n",
    "    : num_outputs: The number of output that the new tensor should be.\n",
    "    : return: A 2-D tensor where the second dimension is num_outputs.\n",
    "    \"\"\"\n",
    "    dim = x_tensor.shape[1]    \n",
    "    weights = tf.Variable(tf.truncated_normal(shape=(int(dim), num_outputs), stddev = 0.1))\n",
    "    biases = tf.Variable(tf.zeros(num_outputs))\n",
    "    logits = tf.add(tf.matmul(x_tensor, weights) , biases)\n",
    "    return logits\n",
    "\n",
    "\n",
    "\"\"\"\n",
    "DON'T MODIFY ANYTHING IN THIS CELL THAT IS BELOW THIS LINE\n",
    "\"\"\"\n",
    "tests.test_output(output)"
   ]
  },
  {
   "cell_type": "markdown",
   "metadata": {},
   "source": [
    "### Create Convolutional Model\n",
    "Implement the function `conv_net` to create a convolutional neural network model. The function takes in a batch of images, `x`, and outputs logits.  Use the layers you created above to create this model:\n",
    "\n",
    "* Apply 1, 2, or 3 Convolution and Max Pool layers\n",
    "* Apply a Flatten Layer\n",
    "* Apply 1, 2, or 3 Fully Connected Layers\n",
    "* Apply an Output Layer\n",
    "* Return the output\n",
    "* Apply [TensorFlow's Dropout](https://www.tensorflow.org/api_docs/python/tf/nn/dropout) to one or more layers in the model using `keep_prob`. "
   ]
  },
  {
   "cell_type": "code",
   "execution_count": 12,
   "metadata": {
    "collapsed": false
   },
   "outputs": [
    {
     "name": "stdout",
     "output_type": "stream",
     "text": [
      "Neural Network Built!\n"
     ]
    }
   ],
   "source": [
    "def conv_net(x, keep_prob):\n",
    "    \"\"\"\n",
    "    Create a convolutional neural network model\n",
    "    : x: Placeholder tensor that holds image data.\n",
    "    : keep_prob: Placeholder tensor that hold dropout keep probability.\n",
    "    : return: Tensor that represents logits\n",
    "    \"\"\"\n",
    "    # TODO: Apply 1, 2, or 3 Convolution and Max Pool layers\n",
    "    #    Play around with different number of outputs, kernel size and stride\n",
    "    # Function Definition from Above:\n",
    "    #    conv2d_maxpool(x_tensor, conv_num_outputs, conv_ksize, conv_strides, pool_ksize, pool_strides)\n",
    "    conv_1 = conv2d_maxpool(x,32,[5,5],[1,1],[2,2],[2,2])\n",
    "    conv_1 = tf.nn.dropout(conv_1, keep_prob = keep_prob)  \n",
    "    conv_2 = conv2d_maxpool(conv_1, 64, [3,3],[1,1],[2,2],[2,2])\n",
    "    conv_2 = tf.nn.dropout(conv_2, keep_prob = keep_prob)    \n",
    "    conv_3 = conv2d_maxpool(conv_2, 128,[3,3],[1,1],[2,2],[2,2])\n",
    "    # conv_3 = tf.nn.dropout(conv_3, keep_prob = keep_prob)\n",
    "    \n",
    "    # TODO: Apply a Flatten Layer\n",
    "    # Function Definition from Above:\n",
    "    #   flatten(x_tensor)\n",
    "    flatten1 = flatten(conv_3)\n",
    "\n",
    "    # TODO: Apply 1, 2, or 3 Fully Connected Layers\n",
    "    #    Play around with different number of outputs\n",
    "    # Function Definition from Above:\n",
    "    #   fully_conn(x_tensor, num_outputs)\n",
    "    fc1 = fully_conn(flatten1,512)\n",
    "    fc1 = tf.nn.dropout(fc1, keep_prob = keep_prob)    \n",
    "    fc2 = fully_conn(fc1, 256)\n",
    "    fc2 = tf.nn.dropout(fc2, keep_prob = keep_prob)   \n",
    "    fc3 = fully_conn(fc2, 128)\n",
    "    fc3 = tf.nn.dropout(fc2, keep_prob = keep_prob) \n",
    "    \n",
    "    # TODO: Apply an Output Layer\n",
    "    #    Set this to the number of classes\n",
    "    # Function Definition from Above:\n",
    "    #   output(x_tensor, num_outputs)    \n",
    "    outputs = output(fc3, 10)\n",
    "    \n",
    "    # TODO: return output\n",
    "    return outputs\n",
    "\n",
    "\n",
    "\"\"\"\n",
    "DON'T MODIFY ANYTHING IN THIS CELL THAT IS BELOW THIS LINE\n",
    "\"\"\"\n",
    "\n",
    "##############################\n",
    "## Build the Neural Network ##\n",
    "##############################\n",
    "\n",
    "# Remove previous weights, bias, inputs, etc..\n",
    "tf.reset_default_graph()\n",
    "\n",
    "# Inputs\n",
    "x = neural_net_image_input((32, 32, 3))\n",
    "y = neural_net_label_input(10)\n",
    "keep_prob = neural_net_keep_prob_input()\n",
    "\n",
    "# Model\n",
    "logits = conv_net(x, keep_prob)\n",
    "\n",
    "# Name logits Tensor, so that is can be loaded from disk after training\n",
    "logits = tf.identity(logits, name='logits')\n",
    "\n",
    "# Loss and Optimizer\n",
    "cost = tf.reduce_mean(tf.nn.softmax_cross_entropy_with_logits(logits=logits, labels=y))\n",
    "optimizer = tf.train.AdamOptimizer().minimize(cost)\n",
    "\n",
    "# Accuracy\n",
    "correct_pred = tf.equal(tf.argmax(logits, 1), tf.argmax(y, 1))\n",
    "accuracy = tf.reduce_mean(tf.cast(correct_pred, tf.float32), name='accuracy')\n",
    "\n",
    "tests.test_conv_net(conv_net)"
   ]
  },
  {
   "cell_type": "markdown",
   "metadata": {},
   "source": [
    "## Train the Neural Network\n",
    "### Single Optimization\n",
    "Implement the function `train_neural_network` to do a single optimization.  The optimization should use `optimizer` to optimize in `session` with a `feed_dict` of the following:\n",
    "* `x` for image input\n",
    "* `y` for labels\n",
    "* `keep_prob` for keep probability for dropout\n",
    "\n",
    "This function will be called for each batch, so `tf.global_variables_initializer()` has already been called.\n",
    "\n",
    "Note: Nothing needs to be returned. This function is only optimizing the neural network."
   ]
  },
  {
   "cell_type": "code",
   "execution_count": 13,
   "metadata": {
    "collapsed": false
   },
   "outputs": [
    {
     "name": "stdout",
     "output_type": "stream",
     "text": [
      "Tests Passed\n"
     ]
    }
   ],
   "source": [
    "def train_neural_network(session, optimizer, keep_probability, feature_batch, label_batch):\n",
    "    \"\"\"\n",
    "    Optimize the session on a batch of images and labels\n",
    "    : session: Current TensorFlow session\n",
    "    : optimizer: TensorFlow optimizer function\n",
    "    : keep_probability: keep probability\n",
    "    : feature_batch: Batch of Numpy image data\n",
    "    : label_batch: Batch of Numpy label data\n",
    "    \"\"\"\n",
    "    # TODO: Implement Function\n",
    "    feed_dict = {x: feature_batch,y: label_batch,keep_prob: keep_probability}\n",
    "    session.run(optimizer, feed_dict = feed_dict)\n",
    "\n",
    "\"\"\"\n",
    "DON'T MODIFY ANYTHING IN THIS CELL THAT IS BELOW THIS LINE\n",
    "\"\"\"\n",
    "tests.test_train_nn(train_neural_network)"
   ]
  },
  {
   "cell_type": "markdown",
   "metadata": {},
   "source": [
    "### Show Stats\n",
    "Implement the function `print_stats` to print loss and validation accuracy.  Use the global variables `valid_features` and `valid_labels` to calculate validation accuracy.  Use a keep probability of `1.0` to calculate the loss and validation accuracy."
   ]
  },
  {
   "cell_type": "code",
   "execution_count": 14,
   "metadata": {
    "collapsed": false
   },
   "outputs": [],
   "source": [
    "def print_stats(session, feature_batch, label_batch, cost, accuracy):\n",
    "    \"\"\"\n",
    "    Print information about loss and validation accuracy\n",
    "    : session: Current TensorFlow session\n",
    "    : feature_batch: Batch of Numpy image data\n",
    "    : label_batch: Batch of Numpy label data\n",
    "    : cost: TensorFlow cost function\n",
    "    : accuracy: TensorFlow accuracy function\n",
    "    \"\"\"\n",
    "    # TODO: Implement Function\n",
    "    loss = session.run(cost, feed_dict={x: feature_batch, y: label_batch, keep_prob : 1.0})\n",
    "    valid_acc = session.run(accuracy, feed_dict = {x: valid_features,y: valid_labels, keep_prob : 1.0})\n",
    "    print(\"train loss is: {:.4f}, valid accuracy is: {:.4f}\".format(loss, valid_acc))"
   ]
  },
  {
   "cell_type": "markdown",
   "metadata": {},
   "source": [
    "### Hyperparameters\n",
    "Tune the following parameters:\n",
    "* Set `epochs` to the number of iterations until the network stops learning or start overfitting\n",
    "* Set `batch_size` to the highest number that your machine has memory for.  Most people set them to common sizes of memory:\n",
    " * 64\n",
    " * 128\n",
    " * 256\n",
    " * ...\n",
    "* Set `keep_probability` to the probability of keeping a node using dropout"
   ]
  },
  {
   "cell_type": "code",
   "execution_count": 15,
   "metadata": {
    "collapsed": true
   },
   "outputs": [],
   "source": [
    "# TODO: Tune Parameters\n",
    "epochs = 50\n",
    "batch_size = 128\n",
    "keep_probability = 0.8"
   ]
  },
  {
   "cell_type": "markdown",
   "metadata": {},
   "source": [
    "### Train on a Single CIFAR-10 Batch\n",
    "Instead of training the neural network on all the CIFAR-10 batches of data, let's use a single batch. This should save time while you iterate on the model to get a better accuracy.  Once the final validation accuracy is 50% or greater, run the model on all the data in the next section."
   ]
  },
  {
   "cell_type": "code",
   "execution_count": 16,
   "metadata": {
    "collapsed": false
   },
   "outputs": [
    {
     "name": "stdout",
     "output_type": "stream",
     "text": [
      "Checking the Training on a Single Batch...\n",
      "Epoch  1, CIFAR-10 Batch 1:  train loss is: 2.1780, valid accuracy is: 0.2602\n",
      "Epoch  2, CIFAR-10 Batch 1:  train loss is: 1.9871, valid accuracy is: 0.3484\n",
      "Epoch  3, CIFAR-10 Batch 1:  train loss is: 1.8507, valid accuracy is: 0.3904\n",
      "Epoch  4, CIFAR-10 Batch 1:  train loss is: 1.8219, valid accuracy is: 0.4296\n",
      "Epoch  5, CIFAR-10 Batch 1:  train loss is: 1.6839, valid accuracy is: 0.4580\n",
      "Epoch  6, CIFAR-10 Batch 1:  train loss is: 1.5630, valid accuracy is: 0.4708\n",
      "Epoch  7, CIFAR-10 Batch 1:  train loss is: 1.4803, valid accuracy is: 0.4822\n",
      "Epoch  8, CIFAR-10 Batch 1:  train loss is: 1.3750, valid accuracy is: 0.4944\n",
      "Epoch  9, CIFAR-10 Batch 1:  train loss is: 1.1259, valid accuracy is: 0.5282\n",
      "Epoch 10, CIFAR-10 Batch 1:  train loss is: 1.1133, valid accuracy is: 0.5218\n",
      "Epoch 11, CIFAR-10 Batch 1:  train loss is: 0.9937, valid accuracy is: 0.5420\n",
      "Epoch 12, CIFAR-10 Batch 1:  train loss is: 0.8660, valid accuracy is: 0.5634\n",
      "Epoch 13, CIFAR-10 Batch 1:  train loss is: 0.7876, valid accuracy is: 0.5744\n",
      "Epoch 14, CIFAR-10 Batch 1:  train loss is: 0.7121, valid accuracy is: 0.5824\n",
      "Epoch 15, CIFAR-10 Batch 1:  train loss is: 0.6060, valid accuracy is: 0.5840\n",
      "Epoch 16, CIFAR-10 Batch 1:  train loss is: 0.5173, valid accuracy is: 0.5976\n",
      "Epoch 17, CIFAR-10 Batch 1:  train loss is: 0.4716, valid accuracy is: 0.5948\n",
      "Epoch 18, CIFAR-10 Batch 1:  train loss is: 0.4092, valid accuracy is: 0.5988\n",
      "Epoch 19, CIFAR-10 Batch 1:  train loss is: 0.3579, valid accuracy is: 0.5852\n",
      "Epoch 20, CIFAR-10 Batch 1:  train loss is: 0.3268, valid accuracy is: 0.6018\n",
      "Epoch 21, CIFAR-10 Batch 1:  train loss is: 0.2481, valid accuracy is: 0.6124\n",
      "Epoch 22, CIFAR-10 Batch 1:  train loss is: 0.1816, valid accuracy is: 0.6162\n",
      "Epoch 23, CIFAR-10 Batch 1:  train loss is: 0.1435, valid accuracy is: 0.6182\n",
      "Epoch 24, CIFAR-10 Batch 1:  train loss is: 0.1114, valid accuracy is: 0.6288\n",
      "Epoch 25, CIFAR-10 Batch 1:  train loss is: 0.0971, valid accuracy is: 0.6220\n",
      "Epoch 26, CIFAR-10 Batch 1:  train loss is: 0.0946, valid accuracy is: 0.6234\n",
      "Epoch 27, CIFAR-10 Batch 1:  train loss is: 0.0574, valid accuracy is: 0.6198\n",
      "Epoch 28, CIFAR-10 Batch 1:  train loss is: 0.0360, valid accuracy is: 0.6242\n",
      "Epoch 29, CIFAR-10 Batch 1:  train loss is: 0.0288, valid accuracy is: 0.6284\n",
      "Epoch 30, CIFAR-10 Batch 1:  train loss is: 0.0254, valid accuracy is: 0.6242\n",
      "Epoch 31, CIFAR-10 Batch 1:  train loss is: 0.0542, valid accuracy is: 0.6150\n",
      "Epoch 32, CIFAR-10 Batch 1:  train loss is: 0.0348, valid accuracy is: 0.6126\n",
      "Epoch 33, CIFAR-10 Batch 1:  train loss is: 0.0208, valid accuracy is: 0.6198\n",
      "Epoch 34, CIFAR-10 Batch 1:  train loss is: 0.0203, valid accuracy is: 0.6014\n",
      "Epoch 35, CIFAR-10 Batch 1:  train loss is: 0.0196, valid accuracy is: 0.6142\n",
      "Epoch 36, CIFAR-10 Batch 1:  train loss is: 0.0145, valid accuracy is: 0.6094\n",
      "Epoch 37, CIFAR-10 Batch 1:  train loss is: 0.0152, valid accuracy is: 0.5998\n",
      "Epoch 38, CIFAR-10 Batch 1:  train loss is: 0.0084, valid accuracy is: 0.6196\n",
      "Epoch 39, CIFAR-10 Batch 1:  train loss is: 0.0111, valid accuracy is: 0.6184\n",
      "Epoch 40, CIFAR-10 Batch 1:  train loss is: 0.0040, valid accuracy is: 0.6298\n",
      "Epoch 41, CIFAR-10 Batch 1:  train loss is: 0.0080, valid accuracy is: 0.6304\n",
      "Epoch 42, CIFAR-10 Batch 1:  train loss is: 0.0111, valid accuracy is: 0.6332\n",
      "Epoch 43, CIFAR-10 Batch 1:  train loss is: 0.0038, valid accuracy is: 0.6246\n",
      "Epoch 44, CIFAR-10 Batch 1:  train loss is: 0.0047, valid accuracy is: 0.6328\n",
      "Epoch 45, CIFAR-10 Batch 1:  train loss is: 0.0049, valid accuracy is: 0.6270\n",
      "Epoch 46, CIFAR-10 Batch 1:  train loss is: 0.0048, valid accuracy is: 0.6308\n",
      "Epoch 47, CIFAR-10 Batch 1:  train loss is: 0.0083, valid accuracy is: 0.6258\n",
      "Epoch 48, CIFAR-10 Batch 1:  train loss is: 0.0040, valid accuracy is: 0.6224\n",
      "Epoch 49, CIFAR-10 Batch 1:  train loss is: 0.0014, valid accuracy is: 0.6340\n",
      "Epoch 50, CIFAR-10 Batch 1:  train loss is: 0.0016, valid accuracy is: 0.6264\n"
     ]
    }
   ],
   "source": [
    "\"\"\"\n",
    "DON'T MODIFY ANYTHING IN THIS CELL\n",
    "\"\"\"\n",
    "print('Checking the Training on a Single Batch...')\n",
    "with tf.Session() as sess:\n",
    "    # Initializing the variables\n",
    "    sess.run(tf.global_variables_initializer())\n",
    "    \n",
    "    # Training cycle\n",
    "    for epoch in range(epochs):\n",
    "        batch_i = 1\n",
    "        for batch_features, batch_labels in helper.load_preprocess_training_batch(batch_i, batch_size):\n",
    "            train_neural_network(sess, optimizer, keep_probability, batch_features, batch_labels)\n",
    "        print('Epoch {:>2}, CIFAR-10 Batch {}:  '.format(epoch + 1, batch_i), end='')\n",
    "        print_stats(sess, batch_features, batch_labels, cost, accuracy)"
   ]
  },
  {
   "cell_type": "markdown",
   "metadata": {},
   "source": [
    "### Fully Train the Model\n",
    "Now that you got a good accuracy with a single CIFAR-10 batch, try it with all five batches."
   ]
  },
  {
   "cell_type": "code",
   "execution_count": 17,
   "metadata": {
    "collapsed": false
   },
   "outputs": [
    {
     "name": "stdout",
     "output_type": "stream",
     "text": [
      "Training...\n",
      "Epoch  1, CIFAR-10 Batch 1:  train loss is: 2.1279, valid accuracy is: 0.2940\n",
      "Epoch  1, CIFAR-10 Batch 2:  train loss is: 1.7684, valid accuracy is: 0.3842\n",
      "Epoch  1, CIFAR-10 Batch 3:  train loss is: 1.4910, valid accuracy is: 0.4376\n",
      "Epoch  1, CIFAR-10 Batch 4:  train loss is: 1.4667, valid accuracy is: 0.4666\n",
      "Epoch  1, CIFAR-10 Batch 5:  train loss is: 1.5565, valid accuracy is: 0.4572\n",
      "Epoch  2, CIFAR-10 Batch 1:  train loss is: 1.5247, valid accuracy is: 0.5160\n",
      "Epoch  2, CIFAR-10 Batch 2:  train loss is: 1.3541, valid accuracy is: 0.5088\n",
      "Epoch  2, CIFAR-10 Batch 3:  train loss is: 1.2255, valid accuracy is: 0.5140\n",
      "Epoch  2, CIFAR-10 Batch 4:  train loss is: 1.1890, valid accuracy is: 0.5538\n",
      "Epoch  2, CIFAR-10 Batch 5:  train loss is: 1.2714, valid accuracy is: 0.5366\n",
      "Epoch  3, CIFAR-10 Batch 1:  train loss is: 1.2684, valid accuracy is: 0.5746\n",
      "Epoch  3, CIFAR-10 Batch 2:  train loss is: 1.1116, valid accuracy is: 0.5496\n",
      "Epoch  3, CIFAR-10 Batch 3:  train loss is: 1.0384, valid accuracy is: 0.5730\n",
      "Epoch  3, CIFAR-10 Batch 4:  train loss is: 0.9723, valid accuracy is: 0.5984\n",
      "Epoch  3, CIFAR-10 Batch 5:  train loss is: 1.1168, valid accuracy is: 0.5846\n",
      "Epoch  4, CIFAR-10 Batch 1:  train loss is: 1.1425, valid accuracy is: 0.6126\n",
      "Epoch  4, CIFAR-10 Batch 2:  train loss is: 0.9867, valid accuracy is: 0.5880\n",
      "Epoch  4, CIFAR-10 Batch 3:  train loss is: 0.8598, valid accuracy is: 0.6054\n",
      "Epoch  4, CIFAR-10 Batch 4:  train loss is: 0.8855, valid accuracy is: 0.6288\n",
      "Epoch  4, CIFAR-10 Batch 5:  train loss is: 1.0127, valid accuracy is: 0.6178\n",
      "Epoch  5, CIFAR-10 Batch 1:  train loss is: 0.9633, valid accuracy is: 0.6418\n",
      "Epoch  5, CIFAR-10 Batch 2:  train loss is: 0.8786, valid accuracy is: 0.6402\n",
      "Epoch  5, CIFAR-10 Batch 3:  train loss is: 0.6456, valid accuracy is: 0.6410\n",
      "Epoch  5, CIFAR-10 Batch 4:  train loss is: 0.7386, valid accuracy is: 0.6504\n",
      "Epoch  5, CIFAR-10 Batch 5:  train loss is: 0.8086, valid accuracy is: 0.6474\n",
      "Epoch  6, CIFAR-10 Batch 1:  train loss is: 0.8410, valid accuracy is: 0.6606\n",
      "Epoch  6, CIFAR-10 Batch 2:  train loss is: 0.7474, valid accuracy is: 0.6712\n",
      "Epoch  6, CIFAR-10 Batch 3:  train loss is: 0.5945, valid accuracy is: 0.6736\n",
      "Epoch  6, CIFAR-10 Batch 4:  train loss is: 0.5847, valid accuracy is: 0.6826\n",
      "Epoch  6, CIFAR-10 Batch 5:  train loss is: 0.6448, valid accuracy is: 0.6776\n",
      "Epoch  7, CIFAR-10 Batch 1:  train loss is: 0.7219, valid accuracy is: 0.6888\n",
      "Epoch  7, CIFAR-10 Batch 2:  train loss is: 0.5842, valid accuracy is: 0.6894\n",
      "Epoch  7, CIFAR-10 Batch 3:  train loss is: 0.4984, valid accuracy is: 0.6910\n",
      "Epoch  7, CIFAR-10 Batch 4:  train loss is: 0.5233, valid accuracy is: 0.6792\n",
      "Epoch  7, CIFAR-10 Batch 5:  train loss is: 0.4789, valid accuracy is: 0.6876\n",
      "Epoch  8, CIFAR-10 Batch 1:  train loss is: 0.6524, valid accuracy is: 0.6788\n",
      "Epoch  8, CIFAR-10 Batch 2:  train loss is: 0.5211, valid accuracy is: 0.7060\n",
      "Epoch  8, CIFAR-10 Batch 3:  train loss is: 0.4535, valid accuracy is: 0.7018\n",
      "Epoch  8, CIFAR-10 Batch 4:  train loss is: 0.4006, valid accuracy is: 0.7108\n",
      "Epoch  8, CIFAR-10 Batch 5:  train loss is: 0.4559, valid accuracy is: 0.6964\n",
      "Epoch  9, CIFAR-10 Batch 1:  train loss is: 0.5361, valid accuracy is: 0.7148\n",
      "Epoch  9, CIFAR-10 Batch 2:  train loss is: 0.4330, valid accuracy is: 0.7162\n",
      "Epoch  9, CIFAR-10 Batch 3:  train loss is: 0.3408, valid accuracy is: 0.7136\n",
      "Epoch  9, CIFAR-10 Batch 4:  train loss is: 0.3916, valid accuracy is: 0.7234\n",
      "Epoch  9, CIFAR-10 Batch 5:  train loss is: 0.4095, valid accuracy is: 0.7014\n",
      "Epoch 10, CIFAR-10 Batch 1:  train loss is: 0.4759, valid accuracy is: 0.7294\n",
      "Epoch 10, CIFAR-10 Batch 2:  train loss is: 0.3553, valid accuracy is: 0.7224\n",
      "Epoch 10, CIFAR-10 Batch 3:  train loss is: 0.2698, valid accuracy is: 0.7280\n",
      "Epoch 10, CIFAR-10 Batch 4:  train loss is: 0.3043, valid accuracy is: 0.7284\n",
      "Epoch 10, CIFAR-10 Batch 5:  train loss is: 0.2762, valid accuracy is: 0.7248\n",
      "Epoch 11, CIFAR-10 Batch 1:  train loss is: 0.3482, valid accuracy is: 0.7272\n",
      "Epoch 11, CIFAR-10 Batch 2:  train loss is: 0.3359, valid accuracy is: 0.7186\n",
      "Epoch 11, CIFAR-10 Batch 3:  train loss is: 0.2418, valid accuracy is: 0.7254\n",
      "Epoch 11, CIFAR-10 Batch 4:  train loss is: 0.2427, valid accuracy is: 0.7334\n",
      "Epoch 11, CIFAR-10 Batch 5:  train loss is: 0.2246, valid accuracy is: 0.7306\n",
      "Epoch 12, CIFAR-10 Batch 1:  train loss is: 0.3166, valid accuracy is: 0.7320\n",
      "Epoch 12, CIFAR-10 Batch 2:  train loss is: 0.2499, valid accuracy is: 0.7442\n",
      "Epoch 12, CIFAR-10 Batch 3:  train loss is: 0.2025, valid accuracy is: 0.7190\n",
      "Epoch 12, CIFAR-10 Batch 4:  train loss is: 0.2140, valid accuracy is: 0.7340\n",
      "Epoch 12, CIFAR-10 Batch 5:  train loss is: 0.1592, valid accuracy is: 0.7444\n",
      "Epoch 13, CIFAR-10 Batch 1:  train loss is: 0.2891, valid accuracy is: 0.7444\n",
      "Epoch 13, CIFAR-10 Batch 2:  train loss is: 0.1966, valid accuracy is: 0.7380\n",
      "Epoch 13, CIFAR-10 Batch 3:  train loss is: 0.1994, valid accuracy is: 0.7286\n",
      "Epoch 13, CIFAR-10 Batch 4:  train loss is: 0.1752, valid accuracy is: 0.7430\n",
      "Epoch 13, CIFAR-10 Batch 5:  train loss is: 0.1529, valid accuracy is: 0.7416\n",
      "Epoch 14, CIFAR-10 Batch 1:  train loss is: 0.1895, valid accuracy is: 0.7400\n",
      "Epoch 14, CIFAR-10 Batch 2:  train loss is: 0.1486, valid accuracy is: 0.7478\n",
      "Epoch 14, CIFAR-10 Batch 3:  train loss is: 0.1647, valid accuracy is: 0.7400\n",
      "Epoch 14, CIFAR-10 Batch 4:  train loss is: 0.1741, valid accuracy is: 0.7444\n",
      "Epoch 14, CIFAR-10 Batch 5:  train loss is: 0.1080, valid accuracy is: 0.7478\n",
      "Epoch 15, CIFAR-10 Batch 1:  train loss is: 0.1737, valid accuracy is: 0.7492\n",
      "Epoch 15, CIFAR-10 Batch 2:  train loss is: 0.1592, valid accuracy is: 0.7500\n",
      "Epoch 15, CIFAR-10 Batch 3:  train loss is: 0.1283, valid accuracy is: 0.7468\n",
      "Epoch 15, CIFAR-10 Batch 4:  train loss is: 0.1056, valid accuracy is: 0.7532\n",
      "Epoch 15, CIFAR-10 Batch 5:  train loss is: 0.0744, valid accuracy is: 0.7526\n",
      "Epoch 16, CIFAR-10 Batch 1:  train loss is: 0.1504, valid accuracy is: 0.7628\n",
      "Epoch 16, CIFAR-10 Batch 2:  train loss is: 0.1267, valid accuracy is: 0.7418\n",
      "Epoch 16, CIFAR-10 Batch 3:  train loss is: 0.0927, valid accuracy is: 0.7486\n",
      "Epoch 16, CIFAR-10 Batch 4:  train loss is: 0.1100, valid accuracy is: 0.7594\n",
      "Epoch 16, CIFAR-10 Batch 5:  train loss is: 0.1144, valid accuracy is: 0.7506\n",
      "Epoch 17, CIFAR-10 Batch 1:  train loss is: 0.1126, valid accuracy is: 0.7534\n",
      "Epoch 17, CIFAR-10 Batch 2:  train loss is: 0.1220, valid accuracy is: 0.7386\n",
      "Epoch 17, CIFAR-10 Batch 3:  train loss is: 0.0705, valid accuracy is: 0.7494\n",
      "Epoch 17, CIFAR-10 Batch 4:  train loss is: 0.1145, valid accuracy is: 0.7434\n",
      "Epoch 17, CIFAR-10 Batch 5:  train loss is: 0.0606, valid accuracy is: 0.7426\n",
      "Epoch 18, CIFAR-10 Batch 1:  train loss is: 0.1061, valid accuracy is: 0.7518\n",
      "Epoch 18, CIFAR-10 Batch 2:  train loss is: 0.0899, valid accuracy is: 0.7544\n",
      "Epoch 18, CIFAR-10 Batch 3:  train loss is: 0.0592, valid accuracy is: 0.7536\n",
      "Epoch 18, CIFAR-10 Batch 4:  train loss is: 0.0497, valid accuracy is: 0.7538\n",
      "Epoch 18, CIFAR-10 Batch 5:  train loss is: 0.0535, valid accuracy is: 0.7508\n",
      "Epoch 19, CIFAR-10 Batch 1:  train loss is: 0.0889, valid accuracy is: 0.7458\n",
      "Epoch 19, CIFAR-10 Batch 2:  train loss is: 0.0895, valid accuracy is: 0.7442\n",
      "Epoch 19, CIFAR-10 Batch 3:  train loss is: 0.0449, valid accuracy is: 0.7540\n",
      "Epoch 19, CIFAR-10 Batch 4:  train loss is: 0.0795, valid accuracy is: 0.7436\n",
      "Epoch 19, CIFAR-10 Batch 5:  train loss is: 0.0402, valid accuracy is: 0.7534\n",
      "Epoch 20, CIFAR-10 Batch 1:  train loss is: 0.0577, valid accuracy is: 0.7642\n",
      "Epoch 20, CIFAR-10 Batch 2:  train loss is: 0.0697, valid accuracy is: 0.7536\n",
      "Epoch 20, CIFAR-10 Batch 3:  train loss is: 0.0319, valid accuracy is: 0.7590\n",
      "Epoch 20, CIFAR-10 Batch 4:  train loss is: 0.0700, valid accuracy is: 0.7424\n",
      "Epoch 20, CIFAR-10 Batch 5:  train loss is: 0.0447, valid accuracy is: 0.7512\n",
      "Epoch 21, CIFAR-10 Batch 1:  train loss is: 0.0428, valid accuracy is: 0.7580\n",
      "Epoch 21, CIFAR-10 Batch 2:  train loss is: 0.0575, valid accuracy is: 0.7544\n",
      "Epoch 21, CIFAR-10 Batch 3:  train loss is: 0.0316, valid accuracy is: 0.7656\n",
      "Epoch 21, CIFAR-10 Batch 4:  train loss is: 0.0325, valid accuracy is: 0.7470\n",
      "Epoch 21, CIFAR-10 Batch 5:  train loss is: 0.0391, valid accuracy is: 0.7372\n",
      "Epoch 22, CIFAR-10 Batch 1:  train loss is: 0.0541, valid accuracy is: 0.7504\n",
      "Epoch 22, CIFAR-10 Batch 2:  train loss is: 0.0616, valid accuracy is: 0.7478\n",
      "Epoch 22, CIFAR-10 Batch 3:  train loss is: 0.0332, valid accuracy is: 0.7534\n",
      "Epoch 22, CIFAR-10 Batch 4:  train loss is: 0.0372, valid accuracy is: 0.7472\n",
      "Epoch 22, CIFAR-10 Batch 5:  train loss is: 0.0284, valid accuracy is: 0.7616\n",
      "Epoch 23, CIFAR-10 Batch 1:  train loss is: 0.0248, valid accuracy is: 0.7566\n",
      "Epoch 23, CIFAR-10 Batch 2:  train loss is: 0.0375, valid accuracy is: 0.7424\n",
      "Epoch 23, CIFAR-10 Batch 3:  train loss is: 0.0265, valid accuracy is: 0.7432\n",
      "Epoch 23, CIFAR-10 Batch 4:  train loss is: 0.0471, valid accuracy is: 0.7482\n",
      "Epoch 23, CIFAR-10 Batch 5:  train loss is: 0.0269, valid accuracy is: 0.7498\n",
      "Epoch 24, CIFAR-10 Batch 1:  train loss is: 0.0154, valid accuracy is: 0.7596\n",
      "Epoch 24, CIFAR-10 Batch 2:  train loss is: 0.0340, valid accuracy is: 0.7542\n",
      "Epoch 24, CIFAR-10 Batch 3:  train loss is: 0.0199, valid accuracy is: 0.7550\n",
      "Epoch 24, CIFAR-10 Batch 4:  train loss is: 0.0212, valid accuracy is: 0.7418\n",
      "Epoch 24, CIFAR-10 Batch 5:  train loss is: 0.0532, valid accuracy is: 0.7458\n",
      "Epoch 25, CIFAR-10 Batch 1:  train loss is: 0.0130, valid accuracy is: 0.7596\n",
      "Epoch 25, CIFAR-10 Batch 2:  train loss is: 0.0421, valid accuracy is: 0.7528\n",
      "Epoch 25, CIFAR-10 Batch 3:  train loss is: 0.0145, valid accuracy is: 0.7600\n",
      "Epoch 25, CIFAR-10 Batch 4:  train loss is: 0.0199, valid accuracy is: 0.7570\n",
      "Epoch 25, CIFAR-10 Batch 5:  train loss is: 0.0190, valid accuracy is: 0.7440\n",
      "Epoch 26, CIFAR-10 Batch 1:  train loss is: 0.0131, valid accuracy is: 0.7506\n",
      "Epoch 26, CIFAR-10 Batch 2:  train loss is: 0.0156, valid accuracy is: 0.7520\n",
      "Epoch 26, CIFAR-10 Batch 3:  train loss is: 0.0110, valid accuracy is: 0.7554\n",
      "Epoch 26, CIFAR-10 Batch 4:  train loss is: 0.0529, valid accuracy is: 0.7524\n",
      "Epoch 26, CIFAR-10 Batch 5:  train loss is: 0.0450, valid accuracy is: 0.7228\n",
      "Epoch 27, CIFAR-10 Batch 1:  train loss is: 0.0194, valid accuracy is: 0.7598\n",
      "Epoch 27, CIFAR-10 Batch 2:  train loss is: 0.0566, valid accuracy is: 0.7396\n",
      "Epoch 27, CIFAR-10 Batch 3:  train loss is: 0.0124, valid accuracy is: 0.7616\n",
      "Epoch 27, CIFAR-10 Batch 4:  train loss is: 0.0462, valid accuracy is: 0.7536\n",
      "Epoch 27, CIFAR-10 Batch 5:  train loss is: 0.0208, valid accuracy is: 0.7454\n",
      "Epoch 28, CIFAR-10 Batch 1:  train loss is: 0.0133, valid accuracy is: 0.7534\n",
      "Epoch 28, CIFAR-10 Batch 2:  train loss is: 0.0172, valid accuracy is: 0.7574\n",
      "Epoch 28, CIFAR-10 Batch 3:  train loss is: 0.0297, valid accuracy is: 0.7578\n",
      "Epoch 28, CIFAR-10 Batch 4:  train loss is: 0.0214, valid accuracy is: 0.7472\n",
      "Epoch 28, CIFAR-10 Batch 5:  train loss is: 0.0185, valid accuracy is: 0.7392\n",
      "Epoch 29, CIFAR-10 Batch 1:  train loss is: 0.0200, valid accuracy is: 0.7538\n",
      "Epoch 29, CIFAR-10 Batch 2:  train loss is: 0.0222, valid accuracy is: 0.7560\n",
      "Epoch 29, CIFAR-10 Batch 3:  train loss is: 0.0082, valid accuracy is: 0.7638\n",
      "Epoch 29, CIFAR-10 Batch 4:  train loss is: 0.0350, valid accuracy is: 0.7484\n",
      "Epoch 29, CIFAR-10 Batch 5:  train loss is: 0.0073, valid accuracy is: 0.7564\n",
      "Epoch 30, CIFAR-10 Batch 1:  train loss is: 0.0175, valid accuracy is: 0.7484\n",
      "Epoch 30, CIFAR-10 Batch 2:  train loss is: 0.0079, valid accuracy is: 0.7448\n",
      "Epoch 30, CIFAR-10 Batch 3:  train loss is: 0.0072, valid accuracy is: 0.7522\n",
      "Epoch 30, CIFAR-10 Batch 4:  train loss is: 0.0225, valid accuracy is: 0.7526\n",
      "Epoch 30, CIFAR-10 Batch 5:  train loss is: 0.0054, valid accuracy is: 0.7484\n",
      "Epoch 31, CIFAR-10 Batch 1:  train loss is: 0.0104, valid accuracy is: 0.7444\n",
      "Epoch 31, CIFAR-10 Batch 2:  train loss is: 0.0045, valid accuracy is: 0.7432\n",
      "Epoch 31, CIFAR-10 Batch 3:  train loss is: 0.0094, valid accuracy is: 0.7658\n",
      "Epoch 31, CIFAR-10 Batch 4:  train loss is: 0.0116, valid accuracy is: 0.7616\n",
      "Epoch 31, CIFAR-10 Batch 5:  train loss is: 0.0048, valid accuracy is: 0.7564\n",
      "Epoch 32, CIFAR-10 Batch 1:  train loss is: 0.0084, valid accuracy is: 0.7574\n",
      "Epoch 32, CIFAR-10 Batch 2:  train loss is: 0.0170, valid accuracy is: 0.7576\n",
      "Epoch 32, CIFAR-10 Batch 3:  train loss is: 0.0052, valid accuracy is: 0.7572\n",
      "Epoch 32, CIFAR-10 Batch 4:  train loss is: 0.0124, valid accuracy is: 0.7582\n",
      "Epoch 32, CIFAR-10 Batch 5:  train loss is: 0.0070, valid accuracy is: 0.7574\n",
      "Epoch 33, CIFAR-10 Batch 1:  train loss is: 0.0037, valid accuracy is: 0.7582\n",
      "Epoch 33, CIFAR-10 Batch 2:  train loss is: 0.0074, valid accuracy is: 0.7610\n",
      "Epoch 33, CIFAR-10 Batch 3:  train loss is: 0.0075, valid accuracy is: 0.7542\n",
      "Epoch 33, CIFAR-10 Batch 4:  train loss is: 0.0095, valid accuracy is: 0.7642\n",
      "Epoch 33, CIFAR-10 Batch 5:  train loss is: 0.0050, valid accuracy is: 0.7584\n",
      "Epoch 34, CIFAR-10 Batch 1:  train loss is: 0.0051, valid accuracy is: 0.7656\n",
      "Epoch 34, CIFAR-10 Batch 2:  train loss is: 0.0162, valid accuracy is: 0.7636\n",
      "Epoch 34, CIFAR-10 Batch 3:  train loss is: 0.0020, valid accuracy is: 0.7594\n",
      "Epoch 34, CIFAR-10 Batch 4:  train loss is: 0.0087, valid accuracy is: 0.7698\n",
      "Epoch 34, CIFAR-10 Batch 5:  train loss is: 0.0088, valid accuracy is: 0.7550\n",
      "Epoch 35, CIFAR-10 Batch 1:  train loss is: 0.0394, valid accuracy is: 0.7504\n",
      "Epoch 35, CIFAR-10 Batch 2:  train loss is: 0.0117, valid accuracy is: 0.7572\n",
      "Epoch 35, CIFAR-10 Batch 3:  train loss is: 0.0017, valid accuracy is: 0.7596\n",
      "Epoch 35, CIFAR-10 Batch 4:  train loss is: 0.0121, valid accuracy is: 0.7616\n",
      "Epoch 35, CIFAR-10 Batch 5:  train loss is: 0.0060, valid accuracy is: 0.7558\n",
      "Epoch 36, CIFAR-10 Batch 1:  train loss is: 0.0060, valid accuracy is: 0.7514\n",
      "Epoch 36, CIFAR-10 Batch 2:  train loss is: 0.0068, valid accuracy is: 0.7526\n",
      "Epoch 36, CIFAR-10 Batch 3:  train loss is: 0.0054, valid accuracy is: 0.7706\n",
      "Epoch 36, CIFAR-10 Batch 4:  train loss is: 0.0110, valid accuracy is: 0.7624\n",
      "Epoch 36, CIFAR-10 Batch 5:  train loss is: 0.0048, valid accuracy is: 0.7624\n",
      "Epoch 37, CIFAR-10 Batch 1:  train loss is: 0.0077, valid accuracy is: 0.7508\n",
      "Epoch 37, CIFAR-10 Batch 2:  train loss is: 0.0070, valid accuracy is: 0.7560\n",
      "Epoch 37, CIFAR-10 Batch 3:  train loss is: 0.0022, valid accuracy is: 0.7642\n",
      "Epoch 37, CIFAR-10 Batch 4:  train loss is: 0.0249, valid accuracy is: 0.7552\n",
      "Epoch 37, CIFAR-10 Batch 5:  train loss is: 0.0041, valid accuracy is: 0.7554\n",
      "Epoch 38, CIFAR-10 Batch 1:  train loss is: 0.0067, valid accuracy is: 0.7612\n",
      "Epoch 38, CIFAR-10 Batch 2:  train loss is: 0.0159, valid accuracy is: 0.7574\n",
      "Epoch 38, CIFAR-10 Batch 3:  train loss is: 0.0078, valid accuracy is: 0.7710\n",
      "Epoch 38, CIFAR-10 Batch 4:  train loss is: 0.0054, valid accuracy is: 0.7680\n",
      "Epoch 38, CIFAR-10 Batch 5:  train loss is: 0.0134, valid accuracy is: 0.7552\n",
      "Epoch 39, CIFAR-10 Batch 1:  train loss is: 0.0112, valid accuracy is: 0.7558\n",
      "Epoch 39, CIFAR-10 Batch 2:  train loss is: 0.0020, valid accuracy is: 0.7700\n",
      "Epoch 39, CIFAR-10 Batch 3:  train loss is: 0.0039, valid accuracy is: 0.7650\n",
      "Epoch 39, CIFAR-10 Batch 4:  train loss is: 0.0062, valid accuracy is: 0.7742\n",
      "Epoch 39, CIFAR-10 Batch 5:  train loss is: 0.0039, valid accuracy is: 0.7714\n",
      "Epoch 40, CIFAR-10 Batch 1:  train loss is: 0.0037, valid accuracy is: 0.7526\n",
      "Epoch 40, CIFAR-10 Batch 2:  train loss is: 0.0084, valid accuracy is: 0.7610\n",
      "Epoch 40, CIFAR-10 Batch 3:  train loss is: 0.0029, valid accuracy is: 0.7606\n",
      "Epoch 40, CIFAR-10 Batch 4:  train loss is: 0.0060, valid accuracy is: 0.7660\n",
      "Epoch 40, CIFAR-10 Batch 5:  train loss is: 0.0036, valid accuracy is: 0.7730\n",
      "Epoch 41, CIFAR-10 Batch 1:  train loss is: 0.0025, valid accuracy is: 0.7508\n",
      "Epoch 41, CIFAR-10 Batch 2:  train loss is: 0.0078, valid accuracy is: 0.7600\n",
      "Epoch 41, CIFAR-10 Batch 3:  train loss is: 0.0041, valid accuracy is: 0.7658\n",
      "Epoch 41, CIFAR-10 Batch 4:  train loss is: 0.0283, valid accuracy is: 0.7582\n",
      "Epoch 41, CIFAR-10 Batch 5:  train loss is: 0.0071, valid accuracy is: 0.7524\n",
      "Epoch 42, CIFAR-10 Batch 1:  train loss is: 0.0015, valid accuracy is: 0.7630\n",
      "Epoch 42, CIFAR-10 Batch 2:  train loss is: 0.0046, valid accuracy is: 0.7612\n",
      "Epoch 42, CIFAR-10 Batch 3:  train loss is: 0.0047, valid accuracy is: 0.7696\n",
      "Epoch 42, CIFAR-10 Batch 4:  train loss is: 0.0183, valid accuracy is: 0.7556\n",
      "Epoch 42, CIFAR-10 Batch 5:  train loss is: 0.0088, valid accuracy is: 0.7608\n",
      "Epoch 43, CIFAR-10 Batch 1:  train loss is: 0.0037, valid accuracy is: 0.7552\n",
      "Epoch 43, CIFAR-10 Batch 2:  train loss is: 0.0028, valid accuracy is: 0.7618\n",
      "Epoch 43, CIFAR-10 Batch 3:  train loss is: 0.0007, valid accuracy is: 0.7706\n",
      "Epoch 43, CIFAR-10 Batch 4:  train loss is: 0.0064, valid accuracy is: 0.7696\n",
      "Epoch 43, CIFAR-10 Batch 5:  train loss is: 0.0029, valid accuracy is: 0.7718\n",
      "Epoch 44, CIFAR-10 Batch 1:  train loss is: 0.0010, valid accuracy is: 0.7688\n",
      "Epoch 44, CIFAR-10 Batch 2:  train loss is: 0.0017, valid accuracy is: 0.7648\n",
      "Epoch 44, CIFAR-10 Batch 3:  train loss is: 0.0019, valid accuracy is: 0.7690\n",
      "Epoch 44, CIFAR-10 Batch 4:  train loss is: 0.0032, valid accuracy is: 0.7684\n",
      "Epoch 44, CIFAR-10 Batch 5:  train loss is: 0.0022, valid accuracy is: 0.7672\n",
      "Epoch 45, CIFAR-10 Batch 1:  train loss is: 0.0009, valid accuracy is: 0.7564\n",
      "Epoch 45, CIFAR-10 Batch 2:  train loss is: 0.0014, valid accuracy is: 0.7702\n",
      "Epoch 45, CIFAR-10 Batch 3:  train loss is: 0.0005, valid accuracy is: 0.7646\n",
      "Epoch 45, CIFAR-10 Batch 4:  train loss is: 0.0034, valid accuracy is: 0.7612\n",
      "Epoch 45, CIFAR-10 Batch 5:  train loss is: 0.0017, valid accuracy is: 0.7590\n",
      "Epoch 46, CIFAR-10 Batch 1:  train loss is: 0.0029, valid accuracy is: 0.7516\n",
      "Epoch 46, CIFAR-10 Batch 2:  train loss is: 0.0034, valid accuracy is: 0.7636\n",
      "Epoch 46, CIFAR-10 Batch 3:  train loss is: 0.0003, valid accuracy is: 0.7650\n",
      "Epoch 46, CIFAR-10 Batch 4:  train loss is: 0.0036, valid accuracy is: 0.7650\n",
      "Epoch 46, CIFAR-10 Batch 5:  train loss is: 0.0019, valid accuracy is: 0.7548\n",
      "Epoch 47, CIFAR-10 Batch 1:  train loss is: 0.0017, valid accuracy is: 0.7504\n",
      "Epoch 47, CIFAR-10 Batch 2:  train loss is: 0.0040, valid accuracy is: 0.7666\n",
      "Epoch 47, CIFAR-10 Batch 3:  train loss is: 0.0024, valid accuracy is: 0.7648\n",
      "Epoch 47, CIFAR-10 Batch 4:  train loss is: 0.0067, valid accuracy is: 0.7646\n",
      "Epoch 47, CIFAR-10 Batch 5:  train loss is: 0.0015, valid accuracy is: 0.7600\n",
      "Epoch 48, CIFAR-10 Batch 1:  train loss is: 0.0071, valid accuracy is: 0.7494\n",
      "Epoch 48, CIFAR-10 Batch 2:  train loss is: 0.0010, valid accuracy is: 0.7618\n",
      "Epoch 48, CIFAR-10 Batch 3:  train loss is: 0.0010, valid accuracy is: 0.7744\n",
      "Epoch 48, CIFAR-10 Batch 4:  train loss is: 0.0055, valid accuracy is: 0.7712\n",
      "Epoch 48, CIFAR-10 Batch 5:  train loss is: 0.0031, valid accuracy is: 0.7562\n",
      "Epoch 49, CIFAR-10 Batch 1:  train loss is: 0.0055, valid accuracy is: 0.7450\n",
      "Epoch 49, CIFAR-10 Batch 2:  train loss is: 0.0035, valid accuracy is: 0.7542\n",
      "Epoch 49, CIFAR-10 Batch 3:  train loss is: 0.0005, valid accuracy is: 0.7608\n",
      "Epoch 49, CIFAR-10 Batch 4:  train loss is: 0.0046, valid accuracy is: 0.7600\n",
      "Epoch 49, CIFAR-10 Batch 5:  train loss is: 0.0011, valid accuracy is: 0.7622\n",
      "Epoch 50, CIFAR-10 Batch 1:  train loss is: 0.0004, valid accuracy is: 0.7622\n",
      "Epoch 50, CIFAR-10 Batch 2:  train loss is: 0.0014, valid accuracy is: 0.7648\n",
      "Epoch 50, CIFAR-10 Batch 3:  train loss is: 0.0064, valid accuracy is: 0.7598\n",
      "Epoch 50, CIFAR-10 Batch 4:  train loss is: 0.0043, valid accuracy is: 0.7688\n",
      "Epoch 50, CIFAR-10 Batch 5:  train loss is: 0.0015, valid accuracy is: 0.7600\n"
     ]
    }
   ],
   "source": [
    "\"\"\"\n",
    "DON'T MODIFY ANYTHING IN THIS CELL\n",
    "\"\"\"\n",
    "save_model_path = './image_classification'\n",
    "\n",
    "print('Training...')\n",
    "with tf.Session() as sess:\n",
    "    # Initializing the variables\n",
    "    sess.run(tf.global_variables_initializer())\n",
    "    \n",
    "    # Training cycle\n",
    "    for epoch in range(epochs):\n",
    "        # Loop over all batches\n",
    "        n_batches = 5\n",
    "        for batch_i in range(1, n_batches + 1):\n",
    "            for batch_features, batch_labels in helper.load_preprocess_training_batch(batch_i, batch_size):\n",
    "                train_neural_network(sess, optimizer, keep_probability, batch_features, batch_labels)\n",
    "            print('Epoch {:>2}, CIFAR-10 Batch {}:  '.format(epoch + 1, batch_i), end='')\n",
    "            print_stats(sess, batch_features, batch_labels, cost, accuracy)\n",
    "            \n",
    "    # Save Model\n",
    "    saver = tf.train.Saver()\n",
    "    save_path = saver.save(sess, save_model_path)"
   ]
  },
  {
   "cell_type": "markdown",
   "metadata": {},
   "source": [
    "# Checkpoint\n",
    "The model has been saved to disk.\n",
    "## Test Model\n",
    "Test your model against the test dataset.  This will be your final accuracy. You should have an accuracy greater than 50%. If you don't, keep tweaking the model architecture and parameters."
   ]
  },
  {
   "cell_type": "code",
   "execution_count": 18,
   "metadata": {
    "collapsed": false
   },
   "outputs": [
    {
     "name": "stdout",
     "output_type": "stream",
     "text": [
      "Testing Accuracy: 0.75\n",
      "\n"
     ]
    },
    {
     "data": {
      "image/png": "[encoded data removed]",
      "text/plain": [
       "<matplotlib.figure.Figure at 0x121ebd4e0>"
      ]
     },
     "metadata": {
      "image/png": {
       "height": 319,
       "width": 355
      }
     },
     "output_type": "display_data"
    }
   ],
   "source": [
    "\"\"\"\n",
    "DON'T MODIFY ANYTHING IN THIS CELL\n",
    "\"\"\"\n",
    "%matplotlib inline\n",
    "%config InlineBackend.figure_format = 'retina'\n",
    "\n",
    "import tensorflow as tf\n",
    "import pickle\n",
    "import helper\n",
    "import random\n",
    "\n",
    "# Set batch size if not already set\n",
    "try:\n",
    "    if batch_size:\n",
    "        pass\n",
    "except NameError:\n",
    "    batch_size = 64\n",
    "\n",
    "save_model_path = './image_classification'\n",
    "n_samples = 4\n",
    "top_n_predictions = 3\n",
    "\n",
    "def test_model():\n",
    "    \"\"\"\n",
    "    Test the saved model against the test dataset\n",
    "    \"\"\"\n",
    "\n",
    "    test_features, test_labels = pickle.load(open('preprocess_training.p', mode='rb'))\n",
    "    loaded_graph = tf.Graph()\n",
    "\n",
    "    with tf.Session(graph=loaded_graph) as sess:\n",
    "        # Load model\n",
    "        loader = tf.train.import_meta_graph(save_model_path + '.meta')\n",
    "        loader.restore(sess, save_model_path)\n",
    "\n",
    "        # Get Tensors from loaded model\n",
    "        loaded_x = loaded_graph.get_tensor_by_name('x:0')\n",
    "        loaded_y = loaded_graph.get_tensor_by_name('y:0')\n",
    "        loaded_keep_prob = loaded_graph.get_tensor_by_name('keep_prob:0')\n",
    "        loaded_logits = loaded_graph.get_tensor_by_name('logits:0')\n",
    "        loaded_acc = loaded_graph.get_tensor_by_name('accuracy:0')\n",
    "        \n",
    "        # Get accuracy in batches for memory limitations\n",
    "        test_batch_acc_total = 0\n",
    "        test_batch_count = 0\n",
    "        \n",
    "        for train_feature_batch, train_label_batch in helper.batch_features_labels(test_features, test_labels, batch_size):\n",
    "            test_batch_acc_total += sess.run(\n",
    "                loaded_acc,\n",
    "                feed_dict={loaded_x: train_feature_batch, loaded_y: train_label_batch, loaded_keep_prob: 1.0})\n",
    "            test_batch_count += 1\n",
    "\n",
    "        print('Testing Accuracy: {}\\n'.format(test_batch_acc_total/test_batch_count))\n",
    "\n",
    "        # Print Random Samples\n",
    "        random_test_features, random_test_labels = tuple(zip(*random.sample(list(zip(test_features, test_labels)), n_samples)))\n",
    "        random_test_predictions = sess.run(\n",
    "            tf.nn.top_k(tf.nn.softmax(loaded_logits), top_n_predictions),\n",
    "            feed_dict={loaded_x: random_test_features, loaded_y: random_test_labels, loaded_keep_prob: 1.0})\n",
    "        helper.display_image_predictions(random_test_features, random_test_labels, random_test_predictions)\n",
    "\n",
    "\n",
    "test_model()"
   ]
  },
  {
   "cell_type": "markdown",
   "metadata": {},
   "source": [
    "## Why 50-70% Accuracy?\n",
    "You might be wondering why you can't get an accuracy any higher. First things first, 50% isn't bad for a simple CNN.  Pure guessing would get you 10% accuracy. However, you might notice people are getting scores [well above 70%](http://rodrigob.github.io/are_we_there_yet/build/classification_datasets_results.html#43494641522d3130).  That's because we haven't taught you all there is to know about neural networks. We still need to cover a few more techniques.\n",
    "## Submitting This Project\n",
    "When submitting this project, make sure to run all the cells before saving the notebook.  Save the notebook file as \"dlnd_image_classification.ipynb\" and save it as a HTML file under \"File\" -> \"Download as\".  Include the \"helper.py\" and \"problem_unittests.py\" files in your submission."
   ]
  }
 ],
 "metadata": {
  "kernelspec": {
   "display_name": "Python 3",
   "language": "python",
   "name": "python3"
  },
  "language_info": {
   "codemirror_mode": {
    "name": "ipython",
    "version": 3
   },
   "file_extension": ".py",
   "mimetype": "text/x-python",
   "name": "python",
   "nbconvert_exporter": "python",
   "pygments_lexer": "ipython3",
   "version": "3.6.0"
  }
 },
 "nbformat": 4,
 "nbformat_minor": 0
}
